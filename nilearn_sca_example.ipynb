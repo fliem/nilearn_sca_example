{
 "cells": [
  {
   "cell_type": "code",
   "execution_count": 4,
   "metadata": {
    "collapsed": true
   },
   "outputs": [],
   "source": [
    "%matplotlib inline\n",
    "import nilearn\n",
    "from nilearn import datasets"
   ]
  },
  {
   "cell_type": "markdown",
   "metadata": {},
   "source": [
    "# load the data"
   ]
  },
  {
   "cell_type": "code",
   "execution_count": 6,
   "metadata": {
    "collapsed": false
   },
   "outputs": [
    {
     "name": "stdout",
     "output_type": "stream",
     "text": [
      "{'phenotypic': array([ ('\"21\"', 10042, '\"rest_1\"', 0.0559, 0, 0.2365, 0.0922, 0.0, 2.2915, 1.0089, '\"NYU\"', 'NA', '\"data_set\"', 10.65, '\"M\"', '\"0.91\"', 'NA', '108', '100', '115', '2', 0, 1, 'NA', 'NA', 'NA', '\"\"', '\"\"', '\"\"', 'NA', 'NA', 'NA', 'NA', 'NA', 'NA', 'NA', 'NA', 'NA', 'NA', 'NA', '59', '56', '65', 'NA', '\"pass\"', '\"\"', '\"pass\"', '\"\"', '\"\"', '\"\"', 'NA', 'NA', 'NA', 'NA', 'NA', 'NA', '\"pass\"', 'NA', 'NA', 'NA', 'NA', 'NA', 'NA', '\"\"', '\"\"')], \n",
      "      dtype=[('f0', 'S4'), ('Subject', '<i8'), ('RestScan', 'S8'), ('MeanFD', '<f8'), ('NumFD_greater_than_020', '<i8'), ('rootMeanSquareFD', '<f8'), ('FDquartiletop14thFD', '<f8'), ('PercentFD_greater_than_020', '<f8'), ('MeanDVARS', '<f8'), ('MeanFD_Jenkinson', '<f8'), ('site', 'S12'), ('sibling_id', 'S7'), ('data_set', 'S10'), ('age', '<f8'), ('sex', 'S3'), ('handedness', 'S6'), ('full_2_iq', 'S3'), ('full_4_iq', 'S3'), ('viq', 'S3'), ('piq', 'S3'), ('iq_measure', 'S2'), ('tdc', '<i8'), ('adhd', '<i8'), ('adhd_inattentive', 'S2'), ('adhd_combined', 'S2'), ('adhd_subthreshold', 'S2'), ('diagnosis_using_cdis', 'S12'), ('notes', 'S24'), ('sess_1_anat_2', 'S6'), ('oppositional', 'S2'), ('cog_inatt', 'S2'), ('hyperac', 'S2'), ('anxious_shy', 'S2'), ('perfectionism', 'S2'), ('social_problems', 'S2'), ('psychosomatic', 'S2'), ('conn_adhd', 'S2'), ('restless_impulsive', 'S2'), ('emot_lability', 'S2'), ('conn_gi_tot', 'S2'), ('dsm_iv_inatt', 'S2'), ('dsm_iv_h_i', 'S2'), ('dsm_iv_tot', 'S2'), ('study', 'S2'), ('sess_1_rest_1', 'S6'), ('sess_1_rest_1_eyes', 'S8'), ('sess_1_rest_2', 'S14'), ('sess_1_rest_2_eyes', 'S8'), ('sess_1_rest_3', 'S6'), ('sess_1_rest_3_eyes', 'S6'), ('sess_1_rest_4', 'S2'), ('sess_1_rest_4_eyes', 'S2'), ('sess_1_rest_5', 'S2'), ('sess_1_rest_5_eyes', 'S2'), ('sess_1_rest_6', 'S2'), ('sess_1_rest_6_eyes', 'S2'), ('sess_1_anat_1', 'S6'), ('sess_1_which_anat', 'S2'), ('sess_2_rest_1', 'S2'), ('sess_2_rest_1_eyes', 'S2'), ('sess_2_rest_2', 'S2'), ('sess_2_rest_2_eyes', 'S2'), ('sess_2_anat_1', 'S2'), ('defacing_ok', 'S5'), ('defacing_notes', 'S35')]), 'confounds': ['/Users/franzliem/nilearn_data/adhd/data/0010042/0010042_regressors.csv'], 'description': \"ADHD 200\\n\\n\\nNotes\\n-----\\nPart of the the 1000 Functional Connectome Project. Phenotypic\\ninformation includes: diagnostic status, dimensional ADHD symptom measures,\\nage, sex, intelligence quotient (IQ) and lifetime medication status.\\nPreliminary quality control assessments (usable vs. questionable) based upon\\nvisual timeseries inspection are included for all resting state fMRI scans.\\n\\nIncludes preprocessed data from 40 participants.\\n\\nProject was coordinated by Michael P. Milham.\\n\\nContent\\n-------\\n    :'func': Nifti images of the resting-state data\\n    :'phenotypic': Explanations of preprocessing steps\\n    :'confounds': CSV files containing the nuisance variables\\n\\nReferences\\n----------\\nFor more information about this dataset's structure:\\nhttp://fcon_1000.projects.nitrc.org/indi/adhd200/index.html\\n\\nLicence: usage is unrestricted for non-commercial research purposes.\", 'func': ['/Users/franzliem/nilearn_data/adhd/data/0010042/0010042_rest_tshift_RPI_voreg_mni.nii.gz']}\n"
     ]
    }
   ],
   "source": [
    "adhd_data = nilearn.datasets.fetch_adhd(n_subjects=1)\n",
    "print adhd_data"
   ]
  },
  {
   "cell_type": "code",
   "execution_count": null,
   "metadata": {
    "collapsed": true
   },
   "outputs": [],
   "source": []
  }
 ],
 "metadata": {
  "kernelspec": {
   "display_name": "Python 2",
   "language": "python",
   "name": "python2"
  },
  "language_info": {
   "codemirror_mode": {
    "name": "ipython",
    "version": 2
   },
   "file_extension": ".py",
   "mimetype": "text/x-python",
   "name": "python",
   "nbconvert_exporter": "python",
   "pygments_lexer": "ipython2",
   "version": "2.7.11"
  }
 },
 "nbformat": 4,
 "nbformat_minor": 0
}

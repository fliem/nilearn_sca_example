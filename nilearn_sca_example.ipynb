{
 "cells": [
  {
   "cell_type": "code",
   "execution_count": 4,
   "metadata": {
    "collapsed": true
   },
   "outputs": [],
   "source": [
    "%matplotlib inline\n",
    "import nilearn\n",
    "from nilearn import datasets"
   ]
  },
  {
   "cell_type": "markdown",
   "metadata": {},
   "source": [
    "# load the data"
   ]
  },
  {
   "cell_type": "code",
   "execution_count": 7,
   "metadata": {
    "collapsed": false
   },
   "outputs": [
    {
     "name": "stdout",
     "output_type": "stream",
     "text": [
      "['/Users/franzliem/nilearn_data/adhd/data/0010042/0010042_rest_tshift_RPI_voreg_mni.nii.gz']\n",
      "[ ('\"21\"', 10042, '\"rest_1\"', 0.0559, 0, 0.2365, 0.0922, 0.0, 2.2915, 1.0089, '\"NYU\"', 'NA', '\"data_set\"', 10.65, '\"M\"', '\"0.91\"', 'NA', '108', '100', '115', '2', 0, 1, 'NA', 'NA', 'NA', '\"\"', '\"\"', '\"\"', 'NA', 'NA', 'NA', 'NA', 'NA', 'NA', 'NA', 'NA', 'NA', 'NA', 'NA', '59', '56', '65', 'NA', '\"pass\"', '\"\"', '\"pass\"', '\"\"', '\"\"', '\"\"', 'NA', 'NA', 'NA', 'NA', 'NA', 'NA', '\"pass\"', 'NA', 'NA', 'NA', 'NA', 'NA', 'NA', '\"\"', '\"\"')]\n",
      "['/Users/franzliem/nilearn_data/adhd/data/0010042/0010042_regressors.csv']\n"
     ]
    }
   ],
   "source": [
    "adhd_data = nilearn.datasets.fetch_adhd(n_subjects=1)\n",
    "func = adhd_data['func']\n",
    "phenotypic = adhd_data['phenotypic']\n",
    "confounds = adhd_data['confounds']\n",
    "\n",
    "print func\n",
    "print phenotypic\n",
    "print confounds"
   ]
  },
  {
   "cell_type": "code",
   "execution_count": null,
   "metadata": {
    "collapsed": true
   },
   "outputs": [],
   "source": []
  }
 ],
 "metadata": {
  "kernelspec": {
   "display_name": "Python 2",
   "language": "python",
   "name": "python2"
  },
  "language_info": {
   "codemirror_mode": {
    "name": "ipython",
    "version": 2
   },
   "file_extension": ".py",
   "mimetype": "text/x-python",
   "name": "python",
   "nbconvert_exporter": "python",
   "pygments_lexer": "ipython2",
   "version": "2.7.11"
  }
 },
 "nbformat": 4,
 "nbformat_minor": 0
}
